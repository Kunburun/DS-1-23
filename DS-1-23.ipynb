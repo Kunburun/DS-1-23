{
 "cells": [
  {
   "cell_type": "markdown",
   "id": "daa3211a-4ee7-4bd4-a384-fd7a4d7d80dc",
   "metadata": {},
   "source": [
    "# Sales Prediction of Steam Games"
   ]
  },
  {
   "cell_type": "markdown",
   "id": "c965ebd9-37ac-4c1d-95cb-169e30d446be",
   "metadata": {},
   "source": [
    "## 1. Introduction "
   ]
  },
  {
   "cell_type": "markdown",
   "id": "eebad920-b76e-4ea0-9915-4dee6fae6042",
   "metadata": {},
   "source": [
    "### 1.1 Objective\n",
    "Steam is a renowned digital gaming platform that serves as a hub for gamers worldwide. Developed and operated by Valve Corporation, Steam has revolutionized the way gamers access and enjoy their favorite video games. Launched in 2003, it quickly gained popularity and became the go-to platform for PC gaming.\n",
    "\n",
    "At its core, Steam offers users a vast library of games spanning various genres, ranging from indie titles to blockbuster releases. Players can browse and purchase games directly from the platform, which are then added to their digital library for easy access. Steam also provides a secure and convenient way to install, update, and manage games, eliminating the need for physical media.\n",
    "\n",
    "The success of the platform brought huge business prospects and value. According to the information disclosed by Steam’s parent company Vavle, Steam’s annual game revenue (excluding in-game purchases) reached US$6.6 billion in 2021, and the number of monthly active users was 132 million,  which had an increase of 74% compared with three years ago.\n",
    "\n",
    "While the cake is getting bigger and bigger, the long tail effect is gradually becoming more obvious. By August 19, 2023, the number of games released on Steam has reached 77,902, and more than 44,000 development teams have released games on Steam. Among them, there were 1622 teams with a revenue of more than 1 million US dollars, accounting for only 3% of the total number, while on the opposite the number of teams with a revenue of less than 1000 US dollars was 25190, accounting for 57%. Selecting the correct type of game and supplementing it with reasonable pricing has become a necessary condition for the survival of game development teams.\n",
    "\n",
    "From a commercial point of view, game sales are generally considered to be the complex combined result of game quality and pricing, which can directly reflect the industry's evaluation of games and related revenue.\n",
    "\n",
    "The first half of this project will clean and prrpeocess the data, trying to find out the development trend of game sales in the past ten years, and then select some features to analyze game sales, which aims to find an approximate regression equation to assist game developers to make judgments and decisions in the early stage of the project.a."
   ]
  },
  {
   "cell_type": "markdown",
   "id": "cc046dbf-4487-4735-966a-aeefd241ad4d",
   "metadata": {},
   "source": [
    "Steam 是著名的数字游戏平台，是全球游戏玩家的中心。 Steam 由 Valve Corporation 开发和运营，彻底改变了玩家访问和享受他们喜爱的视频游戏的方式。 它于 2003 年推出，迅速流行并成为 PC 游戏的首选平台。\r\n",
    "\r\n",
    "Steam 的核心是为用户提供涵盖各种类型的庞大游戏库，从独立游戏到热门游戏。 玩家可以直接从平台浏览和购买游戏，然后将其添加到他们的数字库中以方便访问。 Steam 还提供了一种安全、便捷的方式来安装、更新和管理游戏，无需物理介质。\r\n",
    "\r\n",
    "平台的成功带来了巨大的商业前景和价值。根据Steam母公司Vavle披露的消息，2021年Steam全年游戏营收（不含游戏内购）达到66亿美元，月活用户数量为1.32亿人，较三年前同步增长74%。\r\n",
    "\r\n",
    "在蛋糕越做越大的同时，长尾效应也逐渐趋于明显。到2023年8月19日，Steam上发布的游戏数量达到77,902款，有超过44000支开发团队在Steam上发布游戏。其中营收金额超过100万美元的团队为1622支，仅占全部人数的3%，而营收金额小于1000美元的团队数量为25190，占到全部人数的57%。选择适合的游戏种类并辅以合理的定价已成为游戏开发团队赖以生存的必要条件。\r\n",
    "\r\n",
    "商业角度上，游戏销量一般认为是游戏质量和定价的综合结果，能够直接反映业界对于游戏的评价本项目前半部分将对数据进行清洗和整理，试图找出近十年内游戏销量跟随不同特点的发展趋势，后半部分将选取部分特性作为分析游戏销量的关联因素，并试图找出近似的回归方程以辅助游戏开发者在项目前期做出判断进而做出决策。断进而做出决策。\r\n"
   ]
  },
  {
   "cell_type": "markdown",
   "id": "4c46e287-7a19-4789-bfd6-0fb4532b70a5",
   "metadata": {},
   "source": [
    "### 1.2 Dataset\n",
    "The dataset is a comprehensive collection of data encompassing all games available on the Steam platform, along with their corresponding metadata scraped from Steam and SteamSpy APIs. The dataset includes information about each game, such as its title, release date, developer, publisher, genre, user reviews, ratings, and system requirements. It covers a wide range of game genres, including action, adventure, strategy, role-playing , simulation, sports, and more, providing a diverse and extensive representation of the Steam game library. The dataset was gathered in May 2019 and didn't cover games after that.\n",
    "\n",
    "There are 18 features in the source dataset, and we will select the following features as needed:\n",
    "\n",
    "1. AppID - Unique identifier for each title\n",
    "2. Name - Name of the game\n",
    "3. Release date - Release date in format YYYY-MM-DD\n",
    "4. English - Boolean:  1 if the game supported English\n",
    "5. Platforms - Semicolon delimited list of supported platforms. At most includes: windows;mac;linux\n",
    "6. Genres - Semicolon delimited list of game genres, e.g. action;adventure,  which includes many tags\n",
    "7. Positive_ratings - Number of positive ratings from owners\n",
    "8. Negative_ratings - Number of negative ratings from owners\n",
    "9. Owners - Estimated number of owners. Contains lower and upper bound (like 20000-50000).\n",
    "10. Price - Current full price of title in GBP"
   ]
  },
  {
   "cell_type": "markdown",
   "id": "64d5c18f-2f3a-4628-9b8e-db147b364aed",
   "metadata": {},
   "source": [
    "该是一个从Steam及SteamSpy API抓取的全面的数据集合，涵盖 Steam 平台上提供的所有游戏及其相应的元数据。 该数据集包含有关每个游戏的信息，例如标题、发行日期、开发商、发行商、类型、用户评论、评级和系统要求。 它涵盖了广泛的游戏类型，包括动作、冒险、策略、角色扮演、模拟、体育等等，提供了 Steam 游戏库的多样化和广泛的代表性。该数据集于2019年5月创建因此不包含之后的游戏数据。\n",
    "\n",
    "源数据集中存在18个特征，根据需要我们将选取以下特征值作为因子变量：\n",
    "\n",
    "1. AppID - 软件唯一标识码\n",
    "2. 名称 - 游戏名称\n",
    "3. 发布日期 - 游戏发布的时间\n",
    "4. 是否支持英语 - 布尔值： 1 代表支持\n",
    "5. 支持的平台 - 以分号间隔\n",
    "6. 种类 - 游戏的种类，可能包含多个标签\n",
    "7. 好评 - 游戏所有者给出的评分，在一定程度上反映了用户的评价\n",
    "8. 差评 - 游戏所有者给出的评分，在一定程度上反映了用户的评价\n",
    "9. 销量 - 预计游戏的用户量，以区间划分\n",
    "10. 价格 - 游戏的价格，以英镑为单位\n"
   ]
  },
  {
   "cell_type": "markdown",
   "id": "45be2ec5-e4a0-4bf4-8be7-dacebe43a12b",
   "metadata": {},
   "source": [
    "### 1.3 Problem Statement\n",
    "Answer to the following questions are given:\n",
    "\n",
    "1. Which game recieves the highest owners?\n",
    "2. Which game recieves the highest user score?\n",
    "3. Which genre of game has the highest owners?\n",
    "4. How was the trend in the game industry in the last decade?\n",
    "5. How was the correlation between genre, price, rating and owners of games?\n",
    "6. How supported platform and language influenced polularity of games?\n",
    "7. Can we make popularity prediction with the followiing features? "
   ]
  },
  {
   "cell_type": "markdown",
   "id": "1ea76a1b-428f-490a-97cc-fb5769b7fd40",
   "metadata": {},
   "source": [
    "我们将试图回答以下问题：\n",
    "\n",
    "1. 哪些游戏的用户量最高？\n",
    "2. 哪些游戏的用户评价最好？\n",
    "3. 哪个游戏种类的用户量最高？\n",
    "4. 游戏的热门趋势在过去十年中是怎样的？\n",
    "5. 游戏的种类，价格，评价与销量间存在怎样的相关性?\n",
    "6. 游戏支持的语言和平台存在何种影响？\n",
    "7. 能否根据其他因素预计游戏的销量？"
   ]
  },
  {
   "cell_type": "markdown",
   "id": "47f2ee98-64af-4706-8abb-a250ce86b9d4",
   "metadata": {},
   "source": [
    "## 2. Dataset Preprocessing"
   ]
  },
  {
   "cell_type": "markdown",
   "id": "bc0e717c-a71f-4436-a7a5-2428a3b43f23",
   "metadata": {},
   "source": [
    "## 2.1 Libraries"
   ]
  },
  {
   "cell_type": "markdown",
   "id": "06112810-dfc3-42b6-8e47-06742e08b848",
   "metadata": {},
   "source": [
    "LIBRARIES:\n",
    "\n",
    "1. Library pandas will be required to work with data in tabular representation.\n",
    "2. Library numpy will be required to round the data in the correlation matrix.\n",
    "2. Library fuzzywuzzy will be needed to replace the same values but different in writing.\n",
    "4. Library missingno will be required to visualize missing values in the data.\n",
    "5. Library collections will be required to count the values in the list.\n",
    "6. Library matplotlib, seaborn, plotly required for data visualization.\n",
    "7. Library scipy will be required to test hypotheses."
   ]
  },
  {
   "cell_type": "markdown",
   "id": "07d67ee8-075a-44d0-b13c-b84917ca9782",
   "metadata": {},
   "source": [
    "1. pandas 用来以表格形式处理数据。\n",
    "2. numpy 用来对相关性矩阵中的数据进行舍入。\n",
    "3. fuzzywuzzy用来对相同值但表述方式不同的数据进行替换。\n",
    "4. Missingno 用来可视化数据中的缺失值。\n",
    "5. collections用来计算列表中的值。\n",
    "6. matplotlib、seaborn、plotly用来进行数据可视化。\n",
    "7. scipy 用来验证并测试假设。"
   ]
  },
  {
   "cell_type": "code",
   "execution_count": 1,
   "id": "a8a1773e-6a21-46e7-ad78-41899aaba0e2",
   "metadata": {},
   "outputs": [
    {
     "name": "stderr",
     "output_type": "stream",
     "text": [
      "C:\\Users\\Lawaiian\\AppData\\Local\\Packages\\PythonSoftwareFoundation.Python.3.9_qbz5n2kfra8p0\\LocalCache\\local-packages\\Python39\\site-packages\\fuzzywuzzy\\fuzz.py:11: UserWarning: Using slow pure-python SequenceMatcher. Install python-Levenshtein to remove this warning\n",
      "  warnings.warn('Using slow pure-python SequenceMatcher. Install python-Levenshtein to remove this warning')\n"
     ]
    }
   ],
   "source": [
    "import pandas as pd\n",
    "import numpy as np\n",
    "import missingno\n",
    "import fuzzywuzzy\n",
    "from fuzzywuzzy import process\n",
    "import collections\n",
    "import matplotlib.pyplot as plt\n",
    "from plotly.subplots import make_subplots\n",
    "import plotly.graph_objects as go\n",
    "import plotly.figure_factory as ff\n",
    "from scipy.stats import shapiro\n",
    "from scipy.stats import mannwhitneyu"
   ]
  },
  {
   "cell_type": "markdown",
   "id": "547b520b-6436-48b7-a2f3-aabc520bf3e5",
   "metadata": {},
   "source": [
    "## 2.2 Data Types"
   ]
  },
  {
   "cell_type": "code",
   "execution_count": 2,
   "id": "ea6e401c-2efa-4dff-9cf9-33649b04adde",
   "metadata": {},
   "outputs": [
    {
     "data": {
      "text/html": [
       "<div>\n",
       "<style scoped>\n",
       "    .dataframe tbody tr th:only-of-type {\n",
       "        vertical-align: middle;\n",
       "    }\n",
       "\n",
       "    .dataframe tbody tr th {\n",
       "        vertical-align: top;\n",
       "    }\n",
       "\n",
       "    .dataframe thead th {\n",
       "        text-align: right;\n",
       "    }\n",
       "</style>\n",
       "<table border=\"1\" class=\"dataframe\">\n",
       "  <thead>\n",
       "    <tr style=\"text-align: right;\">\n",
       "      <th></th>\n",
       "      <th>appid</th>\n",
       "      <th>name</th>\n",
       "      <th>release_date</th>\n",
       "      <th>english</th>\n",
       "      <th>platforms</th>\n",
       "      <th>genres</th>\n",
       "      <th>positive_ratings</th>\n",
       "      <th>negative_ratings</th>\n",
       "      <th>owners</th>\n",
       "      <th>price</th>\n",
       "    </tr>\n",
       "  </thead>\n",
       "  <tbody>\n",
       "    <tr>\n",
       "      <th>0</th>\n",
       "      <td>10</td>\n",
       "      <td>Counter-Strike</td>\n",
       "      <td>2000-11-01</td>\n",
       "      <td>1</td>\n",
       "      <td>windows;mac;linux</td>\n",
       "      <td>Action</td>\n",
       "      <td>124534</td>\n",
       "      <td>3339</td>\n",
       "      <td>10000000-20000000</td>\n",
       "      <td>7.19</td>\n",
       "    </tr>\n",
       "    <tr>\n",
       "      <th>1</th>\n",
       "      <td>20</td>\n",
       "      <td>Team Fortress Classic</td>\n",
       "      <td>1999-04-01</td>\n",
       "      <td>1</td>\n",
       "      <td>windows;mac;linux</td>\n",
       "      <td>Action</td>\n",
       "      <td>3318</td>\n",
       "      <td>633</td>\n",
       "      <td>5000000-10000000</td>\n",
       "      <td>3.99</td>\n",
       "    </tr>\n",
       "    <tr>\n",
       "      <th>2</th>\n",
       "      <td>30</td>\n",
       "      <td>Day of Defeat</td>\n",
       "      <td>2003-05-01</td>\n",
       "      <td>1</td>\n",
       "      <td>windows;mac;linux</td>\n",
       "      <td>Action</td>\n",
       "      <td>3416</td>\n",
       "      <td>398</td>\n",
       "      <td>5000000-10000000</td>\n",
       "      <td>3.99</td>\n",
       "    </tr>\n",
       "    <tr>\n",
       "      <th>3</th>\n",
       "      <td>40</td>\n",
       "      <td>Deathmatch Classic</td>\n",
       "      <td>2001-06-01</td>\n",
       "      <td>1</td>\n",
       "      <td>windows;mac;linux</td>\n",
       "      <td>Action</td>\n",
       "      <td>1273</td>\n",
       "      <td>267</td>\n",
       "      <td>5000000-10000000</td>\n",
       "      <td>3.99</td>\n",
       "    </tr>\n",
       "    <tr>\n",
       "      <th>4</th>\n",
       "      <td>50</td>\n",
       "      <td>Half-Life: Opposing Force</td>\n",
       "      <td>1999-11-01</td>\n",
       "      <td>1</td>\n",
       "      <td>windows;mac;linux</td>\n",
       "      <td>Action</td>\n",
       "      <td>5250</td>\n",
       "      <td>288</td>\n",
       "      <td>5000000-10000000</td>\n",
       "      <td>3.99</td>\n",
       "    </tr>\n",
       "  </tbody>\n",
       "</table>\n",
       "</div>"
      ],
      "text/plain": [
       "   appid                       name release_date  english          platforms  \\\n",
       "0     10             Counter-Strike   2000-11-01        1  windows;mac;linux   \n",
       "1     20      Team Fortress Classic   1999-04-01        1  windows;mac;linux   \n",
       "2     30              Day of Defeat   2003-05-01        1  windows;mac;linux   \n",
       "3     40         Deathmatch Classic   2001-06-01        1  windows;mac;linux   \n",
       "4     50  Half-Life: Opposing Force   1999-11-01        1  windows;mac;linux   \n",
       "\n",
       "   genres  positive_ratings  negative_ratings             owners  price  \n",
       "0  Action            124534              3339  10000000-20000000   7.19  \n",
       "1  Action              3318               633   5000000-10000000   3.99  \n",
       "2  Action              3416               398   5000000-10000000   3.99  \n",
       "3  Action              1273               267   5000000-10000000   3.99  \n",
       "4  Action              5250               288   5000000-10000000   3.99  "
      ]
     },
     "execution_count": 2,
     "metadata": {},
     "output_type": "execute_result"
    }
   ],
   "source": [
    "# Reading Dataset\n",
    "games = pd.read_csv(\"steam.csv\") #Loading data\n",
    "games_featured = pd.DataFrame(games,columns=['appid','name','release_date','english','platforms','genres','positive_ratings','negative_ratings','owners','price'])\n",
    "games_featured.head()"
   ]
  },
  {
   "cell_type": "code",
   "execution_count": 3,
   "id": "f832f514-dfd2-41bb-8818-300f9cfc25cc",
   "metadata": {},
   "outputs": [
    {
     "data": {
      "text/plain": [
       "appid                 int64\n",
       "name                 object\n",
       "release_date         object\n",
       "english               int64\n",
       "platforms            object\n",
       "genres               object\n",
       "positive_ratings      int64\n",
       "negative_ratings      int64\n",
       "owners               object\n",
       "price               float64\n",
       "dtype: object"
      ]
     },
     "execution_count": 3,
     "metadata": {},
     "output_type": "execute_result"
    }
   ],
   "source": [
    "# Data types deducing\n",
    "games_featured.dtypes"
   ]
  },
  {
   "cell_type": "markdown",
   "id": "3e9b637c-53c1-4bda-95ca-e4f79dde19ba",
   "metadata": {},
   "source": [
    "## 2.3 Missing Values"
   ]
  },
  {
   "cell_type": "code",
   "execution_count": 4,
   "id": "aca10534-d7a1-4c28-92a0-24e94f7b7944",
   "metadata": {},
   "outputs": [
    {
     "name": "stdout",
     "output_type": "stream",
     "text": [
      "appid - 0.0%\n",
      "name - 0.0%\n",
      "release_date - 0.0%\n",
      "english - 0.0%\n",
      "platforms - 0.0%\n",
      "genres - 0.0%\n",
      "positive_ratings - 0.0%\n",
      "negative_ratings - 0.0%\n",
      "owners - 0.0%\n",
      "price - 0.0%\n"
     ]
    }
   ],
   "source": [
    "# loop through the columns and check the missing values\n",
    "for col in games_featured.columns:\n",
    "    pct_missing = games_featured[col].isnull().mean()\n",
    "    print(f'{col} - {pct_missing :.1%}')"
   ]
  },
  {
   "cell_type": "code",
   "execution_count": 6,
   "id": "a831e0b7-5565-4003-8bd1-d79df40c68b0",
   "metadata": {},
   "outputs": [
    {
     "data": {
      "image/png": "[encoded data removed]",
      "text/plain": [
       "<Figure size 2500x1000 with 2 Axes>"
      ]
     },
     "metadata": {},
     "output_type": "display_data"
    }
   ],
   "source": [
    "# Build a matrix of missing values\n",
    "missingno.matrix(games_featured, fontsize = 16)\n",
    "plt.show()"
   ]
  },
  {
   "cell_type": "code",
   "execution_count": null,
   "id": "4e1d20c6-6183-4673-8df6-711ac34a28f4",
   "metadata": {},
   "outputs": [],
   "source": []
  }
 ],
 "metadata": {
  "kernelspec": {
   "display_name": "Python 3 (ipykernel)",
   "language": "python",
   "name": "python3"
  },
  "language_info": {
   "codemirror_mode": {
    "name": "ipython",
    "version": 3
   },
   "file_extension": ".py",
   "mimetype": "text/x-python",
   "name": "python",
   "nbconvert_exporter": "python",
   "pygments_lexer": "ipython3",
   "version": "3.9.13"
  }
 },
 "nbformat": 4,
 "nbformat_minor": 5
}
