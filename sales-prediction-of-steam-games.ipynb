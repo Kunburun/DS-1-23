{
 "cells": [
  {
   "cell_type": "code",
   "execution_count": null,
   "id": "4098d3e4",
   "metadata": {
    "papermill": {
     "duration": 0.005176,
     "end_time": "2023-08-27T19:14:40.864174",
     "exception": false,
     "start_time": "2023-08-27T19:14:40.858998",
     "status": "completed"
    },
    "tags": []
   },
   "outputs": [],
   "source": []
  },
  {
   "cell_type": "markdown",
   "id": "3bfe7de5",
   "metadata": {
    "papermill": {
     "duration": 0.00421,
     "end_time": "2023-08-27T19:14:40.873021",
     "exception": false,
     "start_time": "2023-08-27T19:14:40.868811",
     "status": "completed"
    },
    "tags": []
   },
   "source": [
    "# **1. Introduction**\n",
    "\n",
    "# 1.1 Objective\n",
    "\n",
    "Steam is a renowned digital gaming platform that serves as a hub for gamers worldwide. Developed and operated by Valve Corporation, Steam has revolutionized the way gamers access and enjoy their favorite video games. Launched in 2003, it quickly gained popularity and became the go-to platform for PC gaming.\n",
    "\n",
    "At its core, Steam offers users a vast library of games spanning various genres, ranging from indie titles to blockbuster releases. Players can browse and purchase games directly from the platform, which are then added to their digital library for easy access. Steam also provides a secure and convenient way to install, update, and manage games, eliminating the need for physical media.\n",
    "\n",
    "The success of the platform brought huge business prospects and value. According to the information disclosed by Steam’s parent company Vavle, Steam’s annual game revenue (excluding in-game purchases) reached US$6.6 billion in 2021, and the number of monthly active users was 132 million, which had an increase of 74% compared with three years ago.\n",
    "\n",
    "While the cake is getting bigger and bigger, the long tail effect is gradually becoming more obvious. By August 19, 2023, the number of games released on Steam has reached 77,902, and more than 44,000 development teams have released games on Steam. Among them, there were 1622 teams with a revenue of more than 1 million US dollars, accounting for only 3% of the total number, while on the opposite the number of teams with a revenue of less than 1000 US dollars was 25190, accounting for 57%. Selecting the correct type of game and supplementing it with reasonable pricing has become a necessary condition for the survival of game development teams.\n",
    "\n",
    "From a commercial point of view, game sales are generally considered to be the complex combined result of game quality and pricing, which can directly reflect the industry's evaluation of games and related revenue.\n",
    "\n",
    "The first half of this project will clean and prrpeocess the data, trying to find out the development trend of game sales in the past ten years, and then select some features to analyze game sales, which aims to find an approximate regression equation to assist game developers to make judgments and decisions in the early stage of the project.a.\n",
    "\n",
    "Steam 是著名的数字游戏平台，是全球游戏玩家的中心。 Steam 由 Valve Corporation 开发和运营，彻底改变了玩家访问和享受他们喜爱的视频游戏的方式。 它于 2003 年推出，迅速流行并成为 PC 游戏的首选平台。\n",
    "\n",
    "Steam 的核心是为用户提供涵盖各种类型的庞大游戏库，从独立游戏到热门游戏。 玩家可以直接从平台浏览和购买游戏，然后将其添加到他们的数字库中以方便访问。 Steam 还提供了一种安全、便捷的方式来安装、更新和管理游戏，无需物理介质。\n",
    "\n",
    "平台的成功带来了巨大的商业前景和价值。根据Steam母公司Vavle披露的消息，2021年Steam全年游戏营收（不含游戏内购）达到66亿美元，月活用户数量为1.32亿人，较三年前同步增长74%。\n",
    "\n",
    "在蛋糕越做越大的同时，长尾效应也逐渐趋于明显。到2023年8月19日，Steam上发布的游戏数量达到77,902款，有超过44000支开发团队在Steam上发布游戏。其中营收金额超过100万美元的团队为1622支，仅占全部人数的3%，而营收金额小于1000美元的团队数量为25190，占到全部人数的57%。选择适合的游戏种类并辅以合理的定价已成为游戏开发团队赖以生存的必要条件。\n",
    "\n",
    "商业角度上，游戏销量一般认为是游戏质量和定价的综合结果，能够直接反映业界对于游戏的评价本项目前半部分将对数据进行清洗和整理，试图找出近十年内游戏销量跟随不同特点的发展趋势，后半部分将选取部分特性作为分析游戏销量的关联因素，并试图找出近似的回归方程以辅助游戏开发者在项目前期做出判断进而做出决策。断进而做出决策。\n",
    "\n",
    "# 1.2 Dataset\n",
    "\n",
    "The dataset is a comprehensive collection of data encompassing all games available on the Steam platform, along with their corresponding metadata scraped from Steam and SteamSpy APIs. The dataset includes information about each game, such as its title, release date, developer, publisher, genre, user reviews, ratings, and system requirements. It covers a wide range of game genres, including action, adventure, strategy, role-playing , simulation, sports, and more, providing a diverse and extensive representation of the Steam game library. The dataset was gathered in May 2019 and didn't cover games after that.\n",
    "  \n",
    "There are 18 features in the source dataset, and we will select the following features as needed:  \n",
    "\n",
    "AppID - Unique identifier for each title  \n",
    "Name - Name of the game  \n",
    "Release date - Release date in format YYYY-MM-DD  \n",
    "English - Boolean: 1 if the game supported English  \n",
    "Platforms - Semicolon delimited list of supported platforms. At most includes: windows;mac;linux  \n",
    "Genres - Semicolon delimited list of game genres, e.g. action;adventure, which includes many tags  \n",
    "Positive_ratings - Number of positive ratings from owners  \n",
    "Negative_ratings - Number of negative ratings from owners  \n",
    "Owners - Estimated number of owners. Contains lower and upper bound (like 20000-50000).  \n",
    "Price - Current full price of title in GBP  \n",
    "该是一个从Steam及SteamSpy API抓取的全面的数据集合，涵盖 Steam 平台上提供的所有游戏及其相应的元数据。 该数据集包含有关每个游戏的信息，例如标题、发行日期、开发商、发行商、类型、用户评论、评级和系统要求。 它涵盖了广泛的游戏类型，包括动作、冒险、策略、角色扮演、模拟、体育等等，提供了 Steam 游戏库的多样化和广泛的代表性。该数据集于2019年5月创建因此不包含之后的游戏数据。  \n",
    "\n",
    "源数据集中存在18个特征，根据需要我们将选取以下特征值作为因子变量：  \n",
    "\n",
    "AppID - 软件唯一标识码  \n",
    "名称 - 游戏名称  \n",
    "发布日期 - 游戏发布的时间  \n",
    "是否支持英语 - 布尔值： 1 代表支持  \n",
    "支持的平台 - 以分号间隔  \n",
    "种类 - 游戏的种类，可能包含多个标签  \n",
    "好评 - 游戏所有者给出的评分，在一定程度上反映了用户的评价  \n",
    "差评 - 游戏所有者给出的评分，在一定程度上反映了用户的评价  \n",
    "销量 - 预计游戏的用户量，以区间划分  \n",
    "价格 - 游戏的价格，以英镑为单位  \n",
    "\n",
    "# 1.3 Problem Statement\n",
    "\n",
    "Answer to the following questions are given:\n",
    "\n",
    "Which game recieves the highest owners?  \n",
    "Which game recieves the highest user score?  \n",
    "Which genre of game has the highest owners?  \n",
    "How was the trend in the game industry in the last decade?  \n",
    "How was the correlation between genre, price, rating and owners of games?  \n",
    "How supported platform and language influenced polularity of games?  \n",
    "Can we make popularity prediction with the followiing features?  \n",
    "我们将试图回答以下问题：  \n",
    "\n",
    "哪些游戏的用户量最高？  \n",
    "哪些游戏的用户评价最好？  \n",
    "哪个游戏种类的用户量最高？  \n",
    "游戏的热门趋势在过去十年中是怎样的？  \n",
    "游戏的种类，价格，评价与销量间存在怎样的相关性?  \n",
    "游戏支持的语言和平台存在何种影响？  \n",
    "能否根据其他因素预计游戏的销量？  \n",
    "\n",
    "\n"
   ]
  },
  {
   "cell_type": "markdown",
   "id": "0a96dc27",
   "metadata": {
    "papermill": {
     "duration": 0.004049,
     "end_time": "2023-08-27T19:14:40.881493",
     "exception": false,
     "start_time": "2023-08-27T19:14:40.877444",
     "status": "completed"
    },
    "tags": []
   },
   "source": [
    "# **2. Dataset Preprocessing**\n",
    "\n",
    "# 2.1 Libraries\n",
    "\n",
    "LIBRARIES:\n",
    "\n",
    "Library pandas will be required to work with data in tabular representation.  \n",
    "Library numpy will be required to round the data in the correlation matrix.  \n",
    "Library fuzzywuzzy will be needed to replace the same values but different in writing.  \n",
    "Library missingno will be required to visualize missing values in the data.  \n",
    "Library collections will be required to count the values in the list.  \n",
    "Library matplotlib, seaborn, plotly required for data visualization.  \n",
    "Library scipy will be required to test hypotheses.  \n",
    "pandas 用来以表格形式处理数据。  \n",
    "numpy 用来对相关性矩阵中的数据进行舍入。  \n",
    "fuzzywuzzy用来对相同值但表述方式不同的数据进行替换。  \n",
    "Missingno 用来可视化数据中的缺失值。  \n",
    "collections用来计算列表中的值。  \n",
    "matplotlib、seaborn、plotly用来进行数据可视化。  \n",
    "scipy 用来验证并测试假设。  "
   ]
  },
  {
   "cell_type": "code",
   "execution_count": 1,
   "id": "3983419e",
   "metadata": {
    "_cell_guid": "b1076dfc-b9ad-4769-8c92-a6c4dae69d19",
    "_uuid": "8f2839f25d086af736a60e9eeb907d3b93b6e0e5",
    "execution": {
     "iopub.execute_input": "2023-08-27T19:14:40.892379Z",
     "iopub.status.busy": "2023-08-27T19:14:40.891749Z",
     "iopub.status.idle": "2023-08-27T19:14:40.916708Z",
     "shell.execute_reply": "2023-08-27T19:14:40.914976Z"
    },
    "papermill": {
     "duration": 0.033312,
     "end_time": "2023-08-27T19:14:40.919137",
     "exception": false,
     "start_time": "2023-08-27T19:14:40.885825",
     "status": "completed"
    },
    "tags": []
   },
   "outputs": [
    {
     "name": "stdout",
     "output_type": "stream",
     "text": [
      "/kaggle/input/steam-store-games/steam_support_info.csv\n",
      "/kaggle/input/steam-store-games/steam_media_data.csv\n",
      "/kaggle/input/steam-store-games/steamspy_tag_data.csv\n",
      "/kaggle/input/steam-store-games/steam_requirements_data.csv\n",
      "/kaggle/input/steam-store-games/steam_description_data.csv\n",
      "/kaggle/input/steam-store-games/steam.csv\n"
     ]
    }
   ],
   "source": [
    "# This Python 3 environment comes with many helpful analytics libraries installed\n",
    "# It is defined by the kaggle/python Docker image: https://github.com/kaggle/docker-python\n",
    "# For example, here's several helpful packages to load\n",
    "\n",
    "import pandas as pd\n",
    "import numpy as np\n",
    "# Input data files are available in the read-only \"../input/\" directory\n",
    "# For example, running this (by clicking run or pressing Shift+Enter) will list all files under the input directory\n",
    "\n",
    "import os\n",
    "for dirname, _, filenames in os.walk('/kaggle/input/'):\n",
    "    for filename in filenames:\n",
    "        print(os.path.join(dirname, filename))"
   ]
  },
  {
   "cell_type": "markdown",
   "id": "e8d71d05",
   "metadata": {
    "papermill": {
     "duration": 0.004495,
     "end_time": "2023-08-27T19:14:40.928691",
     "exception": false,
     "start_time": "2023-08-27T19:14:40.924196",
     "status": "completed"
    },
    "tags": []
   },
   "source": [
    "# 2.2 Data Types"
   ]
  },
  {
   "cell_type": "code",
   "execution_count": 2,
   "id": "2e5d5a44",
   "metadata": {
    "execution": {
     "iopub.execute_input": "2023-08-27T19:14:40.940044Z",
     "iopub.status.busy": "2023-08-27T19:14:40.939661Z",
     "iopub.status.idle": "2023-08-27T19:14:41.165017Z",
     "shell.execute_reply": "2023-08-27T19:14:41.163869Z"
    },
    "papermill": {
     "duration": 0.233691,
     "end_time": "2023-08-27T19:14:41.167304",
     "exception": false,
     "start_time": "2023-08-27T19:14:40.933613",
     "status": "completed"
    },
    "tags": []
   },
   "outputs": [
    {
     "data": {
      "text/html": [
       "<div>\n",
       "<style scoped>\n",
       "    .dataframe tbody tr th:only-of-type {\n",
       "        vertical-align: middle;\n",
       "    }\n",
       "\n",
       "    .dataframe tbody tr th {\n",
       "        vertical-align: top;\n",
       "    }\n",
       "\n",
       "    .dataframe thead th {\n",
       "        text-align: right;\n",
       "    }\n",
       "</style>\n",
       "<table border=\"1\" class=\"dataframe\">\n",
       "  <thead>\n",
       "    <tr style=\"text-align: right;\">\n",
       "      <th></th>\n",
       "      <th>appid</th>\n",
       "      <th>name</th>\n",
       "      <th>release_date</th>\n",
       "      <th>english</th>\n",
       "      <th>platforms</th>\n",
       "      <th>genres</th>\n",
       "      <th>positive_ratings</th>\n",
       "      <th>negative_ratings</th>\n",
       "      <th>owners</th>\n",
       "      <th>price</th>\n",
       "    </tr>\n",
       "  </thead>\n",
       "  <tbody>\n",
       "    <tr>\n",
       "      <th>0</th>\n",
       "      <td>10</td>\n",
       "      <td>Counter-Strike</td>\n",
       "      <td>2000-11-01</td>\n",
       "      <td>1</td>\n",
       "      <td>windows;mac;linux</td>\n",
       "      <td>Action</td>\n",
       "      <td>124534</td>\n",
       "      <td>3339</td>\n",
       "      <td>10000000-20000000</td>\n",
       "      <td>7.19</td>\n",
       "    </tr>\n",
       "    <tr>\n",
       "      <th>1</th>\n",
       "      <td>20</td>\n",
       "      <td>Team Fortress Classic</td>\n",
       "      <td>1999-04-01</td>\n",
       "      <td>1</td>\n",
       "      <td>windows;mac;linux</td>\n",
       "      <td>Action</td>\n",
       "      <td>3318</td>\n",
       "      <td>633</td>\n",
       "      <td>5000000-10000000</td>\n",
       "      <td>3.99</td>\n",
       "    </tr>\n",
       "    <tr>\n",
       "      <th>2</th>\n",
       "      <td>30</td>\n",
       "      <td>Day of Defeat</td>\n",
       "      <td>2003-05-01</td>\n",
       "      <td>1</td>\n",
       "      <td>windows;mac;linux</td>\n",
       "      <td>Action</td>\n",
       "      <td>3416</td>\n",
       "      <td>398</td>\n",
       "      <td>5000000-10000000</td>\n",
       "      <td>3.99</td>\n",
       "    </tr>\n",
       "    <tr>\n",
       "      <th>3</th>\n",
       "      <td>40</td>\n",
       "      <td>Deathmatch Classic</td>\n",
       "      <td>2001-06-01</td>\n",
       "      <td>1</td>\n",
       "      <td>windows;mac;linux</td>\n",
       "      <td>Action</td>\n",
       "      <td>1273</td>\n",
       "      <td>267</td>\n",
       "      <td>5000000-10000000</td>\n",
       "      <td>3.99</td>\n",
       "    </tr>\n",
       "    <tr>\n",
       "      <th>4</th>\n",
       "      <td>50</td>\n",
       "      <td>Half-Life: Opposing Force</td>\n",
       "      <td>1999-11-01</td>\n",
       "      <td>1</td>\n",
       "      <td>windows;mac;linux</td>\n",
       "      <td>Action</td>\n",
       "      <td>5250</td>\n",
       "      <td>288</td>\n",
       "      <td>5000000-10000000</td>\n",
       "      <td>3.99</td>\n",
       "    </tr>\n",
       "  </tbody>\n",
       "</table>\n",
       "</div>"
      ],
      "text/plain": [
       "   appid                       name release_date  english          platforms  \\\n",
       "0     10             Counter-Strike   2000-11-01        1  windows;mac;linux   \n",
       "1     20      Team Fortress Classic   1999-04-01        1  windows;mac;linux   \n",
       "2     30              Day of Defeat   2003-05-01        1  windows;mac;linux   \n",
       "3     40         Deathmatch Classic   2001-06-01        1  windows;mac;linux   \n",
       "4     50  Half-Life: Opposing Force   1999-11-01        1  windows;mac;linux   \n",
       "\n",
       "   genres  positive_ratings  negative_ratings             owners  price  \n",
       "0  Action            124534              3339  10000000-20000000   7.19  \n",
       "1  Action              3318               633   5000000-10000000   3.99  \n",
       "2  Action              3416               398   5000000-10000000   3.99  \n",
       "3  Action              1273               267   5000000-10000000   3.99  \n",
       "4  Action              5250               288   5000000-10000000   3.99  "
      ]
     },
     "execution_count": 2,
     "metadata": {},
     "output_type": "execute_result"
    }
   ],
   "source": [
    "# Reading Dataset\n",
    "games = pd.read_csv(\"../input/steam-store-games/steam.csv\") #Loading data\n",
    "games_featured = pd.DataFrame(games,columns=['appid','name','release_date','english','platforms','genres','positive_ratings','negative_ratings','owners','price'])\n",
    "games_featured.head()"
   ]
  },
  {
   "cell_type": "code",
   "execution_count": 3,
   "id": "f7a0464e",
   "metadata": {
    "execution": {
     "iopub.execute_input": "2023-08-27T19:14:41.178735Z",
     "iopub.status.busy": "2023-08-27T19:14:41.178409Z",
     "iopub.status.idle": "2023-08-27T19:14:41.186752Z",
     "shell.execute_reply": "2023-08-27T19:14:41.185736Z"
    },
    "papermill": {
     "duration": 0.016177,
     "end_time": "2023-08-27T19:14:41.188567",
     "exception": false,
     "start_time": "2023-08-27T19:14:41.172390",
     "status": "completed"
    },
    "tags": []
   },
   "outputs": [
    {
     "name": "stdout",
     "output_type": "stream",
     "text": [
      "Data contain 27075 records and 10 columns.\n",
      "They are: \n"
     ]
    },
    {
     "data": {
      "text/plain": [
       "appid                 int64\n",
       "name                 object\n",
       "release_date         object\n",
       "english               int64\n",
       "platforms            object\n",
       "genres               object\n",
       "positive_ratings      int64\n",
       "negative_ratings      int64\n",
       "owners               object\n",
       "price               float64\n",
       "dtype: object"
      ]
     },
     "execution_count": 3,
     "metadata": {},
     "output_type": "execute_result"
    }
   ],
   "source": [
    "print(f'Data contain {games_featured.shape[0]} records and {games_featured.shape[1]} columns.')\n",
    "print('They are: ')\n",
    "games_featured.dtypes"
   ]
  },
  {
   "cell_type": "markdown",
   "id": "376fa88d",
   "metadata": {
    "papermill": {
     "duration": 0.004739,
     "end_time": "2023-08-27T19:14:41.198345",
     "exception": false,
     "start_time": "2023-08-27T19:14:41.193606",
     "status": "completed"
    },
    "tags": []
   },
   "source": [
    "# **2.3 Data Clean**\n",
    "\n",
    "# 2.3.1 Duplicates"
   ]
  },
  {
   "cell_type": "code",
   "execution_count": 4,
   "id": "5367e6d3",
   "metadata": {
    "execution": {
     "iopub.execute_input": "2023-08-27T19:14:41.210790Z",
     "iopub.status.busy": "2023-08-27T19:14:41.210482Z",
     "iopub.status.idle": "2023-08-27T19:14:41.221935Z",
     "shell.execute_reply": "2023-08-27T19:14:41.220578Z"
    },
    "papermill": {
     "duration": 0.020056,
     "end_time": "2023-08-27T19:14:41.224461",
     "exception": false,
     "start_time": "2023-08-27T19:14:41.204405",
     "status": "completed"
    },
    "tags": []
   },
   "outputs": [
    {
     "name": "stdout",
     "output_type": "stream",
     "text": [
      "No duplicated data.\n"
     ]
    }
   ],
   "source": [
    "# Check the duplicates \n",
    "if games_featured.appid.is_unique:\n",
    "    print(\"No duplicated data.\") \n",
    "else: \n",
    "    print(\"There are some duplicated data.\")"
   ]
  },
  {
   "cell_type": "markdown",
   "id": "f3a5a9ee",
   "metadata": {
    "papermill": {
     "duration": 0.004829,
     "end_time": "2023-08-27T19:14:41.234711",
     "exception": false,
     "start_time": "2023-08-27T19:14:41.229882",
     "status": "completed"
    },
    "tags": []
   },
   "source": [
    "下一步：preprocessing\n",
    "\n",
    "是否需要对发布日期（released_date）进行格式转换以方便计算？  \n",
    "https://blog.csdn.net/weixin_43849761/article/details/90725587  \n",
    "platforms拆分：可以按是否支持windows/linux/mac拆分成三个fesature，或考虑到windows是目前主流的pc游戏平台，考虑拆分成是否支持windows和支持其他平台两个feature  \n",
    "genres拆分：存在部分游戏多个tag的情况，考虑按游戏类型拆分成多个feature，或统计出前几名的游戏类型拆分成子feature，如是否为动作游戏/休闲游戏/策略游戏/其他等  \n",
    "positive/negative：可以用好评/差评的比例创造一个新feature表示好评率，同时需要一个新feature表示好评+差评的总数量表示评价的准确程度（防止样本过少）  \n",
    "后面的其他内容建议参考老师给的示例(https://www.kaggle.com/code/ivannatarov/amazon-s-books-eda-plotly-hypothesis-test/notebook#3-TESTING-HYPOTHESES)  "
   ]
  },
  {
   "cell_type": "markdown",
   "id": "40ac2a49",
   "metadata": {
    "papermill": {
     "duration": 0.004625,
     "end_time": "2023-08-27T19:14:41.244148",
     "exception": false,
     "start_time": "2023-08-27T19:14:41.239523",
     "status": "completed"
    },
    "tags": []
   },
   "source": [
    "# 2.3.2 Missing Values"
   ]
  },
  {
   "cell_type": "code",
   "execution_count": 5,
   "id": "2d196222",
   "metadata": {
    "execution": {
     "iopub.execute_input": "2023-08-27T19:14:41.255405Z",
     "iopub.status.busy": "2023-08-27T19:14:41.255083Z",
     "iopub.status.idle": "2023-08-27T19:14:41.271263Z",
     "shell.execute_reply": "2023-08-27T19:14:41.269881Z"
    },
    "papermill": {
     "duration": 0.023946,
     "end_time": "2023-08-27T19:14:41.273010",
     "exception": false,
     "start_time": "2023-08-27T19:14:41.249064",
     "status": "completed"
    },
    "tags": []
   },
   "outputs": [
    {
     "name": "stdout",
     "output_type": "stream",
     "text": [
      "appid - 0.0%\n",
      "name - 0.0%\n",
      "release_date - 0.0%\n",
      "english - 0.0%\n",
      "platforms - 0.0%\n",
      "genres - 0.0%\n",
      "positive_ratings - 0.0%\n",
      "negative_ratings - 0.0%\n",
      "owners - 0.0%\n",
      "price - 0.0%\n"
     ]
    }
   ],
   "source": [
    "# loop through the columns and check the missing values\n",
    "for col in games_featured.columns:\n",
    "    pct_missing = games_featured[col].isnull().mean()\n",
    "    print(f'{col} - {pct_missing :.1%}')"
   ]
  },
  {
   "cell_type": "markdown",
   "id": "24f63bc7",
   "metadata": {
    "papermill": {
     "duration": 0.004726,
     "end_time": "2023-08-27T19:14:41.283762",
     "exception": false,
     "start_time": "2023-08-27T19:14:41.279036",
     "status": "completed"
    },
    "tags": []
   },
   "source": [
    "下一步：preprocessing\n",
    "\n",
    "是否需要对发布日期（released_date）进行格式转换以方便计算？  \n",
    "https://blog.csdn.net/weixin_43849761/article/details/90725587  \n",
    "platforms拆分：可以按是否支持windows/linux/mac拆分成三个fesature，或考虑到windows是目前主流的pc游戏平台，考虑拆分成是否支持windows和支持其他平台两个feature  \n",
    "genres拆分：存在部分游戏多个tag的情况，考虑按游戏类型拆分成多个feature，或统计出前几名的游戏类型拆分成子feature，如是否为动作游戏/休闲游戏/策略游戏/其他等  \n",
    "positive/negative：可以用好评/差评的比例创造一个新feature表示好评率，同时需要一个新feature表示好评+差评的总数量表示评价的准确程度（防止样本过少）  \n",
    "后面的其他内容建议参考老师给的示例(https://www.kaggle.com/code/ivannatarov/amazon-s-books-eda-plotly-hypothesis-test/notebook#3-TESTING-HYPOTHESES)  "
   ]
  },
  {
   "cell_type": "markdown",
   "id": "19dd1f42",
   "metadata": {
    "papermill": {
     "duration": 0.004887,
     "end_time": "2023-08-27T19:14:41.293649",
     "exception": false,
     "start_time": "2023-08-27T19:14:41.288762",
     "status": "completed"
    },
    "tags": []
   },
   "source": [
    "# 2.4 Exploratory Data Analysis\n",
    "# 2.4.1 Support platform"
   ]
  },
  {
   "cell_type": "code",
   "execution_count": 6,
   "id": "2d72f248",
   "metadata": {
    "execution": {
     "iopub.execute_input": "2023-08-27T19:14:41.305302Z",
     "iopub.status.busy": "2023-08-27T19:14:41.304916Z",
     "iopub.status.idle": "2023-08-27T19:14:41.364154Z",
     "shell.execute_reply": "2023-08-27T19:14:41.362755Z"
    },
    "papermill": {
     "duration": 0.068257,
     "end_time": "2023-08-27T19:14:41.366791",
     "exception": false,
     "start_time": "2023-08-27T19:14:41.298534",
     "status": "completed"
    },
    "tags": []
   },
   "outputs": [
    {
     "name": "stdout",
     "output_type": "stream",
     "text": [
      "99.98% games support windows system.\n",
      "19.34% games support linux system.\n",
      "29.79% games support mac system.\n",
      "17.07% games support all system.\n"
     ]
    }
   ],
   "source": [
    "support_windows = games_featured.loc[games_featured['platforms'].str.contains(\"windows\")]\n",
    "print('{:.2f}% games support windows system.'.format(support_windows.shape[0]/games_featured.shape[0]*100))\n",
    "support_linux = games_featured.loc[games_featured['platforms'].str.contains(\"linux\")]\n",
    "print('{:.2f}% games support linux system.'.format(support_linux.shape[0]/games_featured.shape[0]*100))\n",
    "support_mac = games_featured.loc[games_featured['platforms'].str.contains(\"mac\")]\n",
    "print('{:.2f}% games support mac system.'.format(support_mac.shape[0]/games_featured.shape[0]*100))\n",
    "support_all = games_featured.loc[games_featured['platforms'].str.contains(\"windows;mac;linux\")]\n",
    "print('{:.2f}% games support all system.'.format(support_all.shape[0]/games_featured.shape[0]*100))"
   ]
  },
  {
   "cell_type": "markdown",
   "id": "6783363d",
   "metadata": {
    "papermill": {
     "duration": 0.005341,
     "end_time": "2023-08-27T19:14:41.377804",
     "exception": false,
     "start_time": "2023-08-27T19:14:41.372463",
     "status": "completed"
    },
    "tags": []
   },
   "source": [
    "# 2.4.2 Genres"
   ]
  },
  {
   "cell_type": "code",
   "execution_count": 7,
   "id": "50c8ae05",
   "metadata": {
    "execution": {
     "iopub.execute_input": "2023-08-27T19:14:41.390718Z",
     "iopub.status.busy": "2023-08-27T19:14:41.390372Z",
     "iopub.status.idle": "2023-08-27T19:14:41.418922Z",
     "shell.execute_reply": "2023-08-27T19:14:41.418276Z"
    },
    "papermill": {
     "duration": 0.037372,
     "end_time": "2023-08-27T19:14:41.420908",
     "exception": false,
     "start_time": "2023-08-27T19:14:41.383536",
     "status": "completed"
    },
    "tags": []
   },
   "outputs": [
    {
     "name": "stdout",
     "output_type": "stream",
     "text": [
      "                       Frequency\n",
      "Indie                      19421\n",
      "Action                     11903\n",
      "Casual                     10210\n",
      "Adventure                  10032\n",
      "Strategy                    5247\n",
      "Simulation                  5194\n",
      "RPG                         4311\n",
      "Early Access                2954\n",
      "Free to Play                1704\n",
      "Sports                      1322\n",
      "Racing                      1024\n",
      "Violent                      843\n",
      "Massively Multiplayer        723\n",
      "Gore                         537\n",
      "Nudity                       266\n",
      "Sexual Content               245\n",
      "Utilities                    146\n",
      "Design & Illustration         87\n",
      "Animation & Modeling          79\n",
      "Education                     51\n",
      "Video Production              38\n",
      "Software Training             31\n",
      "Audio Production              29\n",
      "Web Publishing                28\n",
      "Game Development              17\n",
      "Photo Editing                 12\n",
      "Accounting                     6\n",
      "Documentary                    1\n",
      "Tutorial                       1\n"
     ]
    }
   ],
   "source": [
    "# find the frequeny of genres\n",
    "genres=games_featured.genres.apply(str)\n",
    "# separate single genres with \";\" instead of by games\n",
    "genresStr=\";\".join(genres)\n",
    "# genresStr from str to list->genresStr.split(';')\n",
    "# Approach #6 : Using pandas library. \n",
    "# https://www.geeksforgeeks.org/python-find-most-frequent-element-in-a-list/\n",
    "list=genresStr.split(';')\n",
    "genresDf=pd.DataFrame({'Genres': list})\n",
    "#without repeat element\n",
    "genresDf1 = pd.DataFrame({'Frequency':genresDf['Genres'].value_counts()})\n",
    "print(genresDf1)"
   ]
  },
  {
   "cell_type": "markdown",
   "id": "299ed517",
   "metadata": {
    "papermill": {
     "duration": 0.004997,
     "end_time": "2023-08-27T19:14:41.431373",
     "exception": false,
     "start_time": "2023-08-27T19:14:41.426376",
     "status": "completed"
    },
    "tags": []
   },
   "source": [
    "# 2.4.3 Game Sales\n",
    "在这里我们可以探究游戏销量被分为几档，以及不同销量档次的分布情况"
   ]
  },
  {
   "cell_type": "code",
   "execution_count": 8,
   "id": "356deb1e",
   "metadata": {
    "execution": {
     "iopub.execute_input": "2023-08-27T19:14:41.443671Z",
     "iopub.status.busy": "2023-08-27T19:14:41.443307Z",
     "iopub.status.idle": "2023-08-27T19:14:41.451241Z",
     "shell.execute_reply": "2023-08-27T19:14:41.450310Z"
    },
    "papermill": {
     "duration": 0.017148,
     "end_time": "2023-08-27T19:14:41.453725",
     "exception": false,
     "start_time": "2023-08-27T19:14:41.436577",
     "status": "completed"
    },
    "tags": []
   },
   "outputs": [
    {
     "name": "stdout",
     "output_type": "stream",
     "text": [
      "                     Frequency\n",
      "0-20000                  18596\n",
      "20000-50000               3059\n",
      "50000-100000              1695\n",
      "100000-200000             1386\n",
      "200000-500000             1272\n",
      "500000-1000000             513\n",
      "1000000-2000000            288\n",
      "2000000-5000000            193\n",
      "5000000-10000000            46\n",
      "10000000-20000000           21\n",
      "20000000-50000000            3\n",
      "50000000-100000000           2\n",
      "100000000-200000000          1\n"
     ]
    }
   ],
   "source": [
    "owner = pd.DataFrame({'Frequency':games_featured['owners'].value_counts()})\n",
    "print(owner)"
   ]
  },
  {
   "cell_type": "markdown",
   "id": "a02c38bf",
   "metadata": {
    "papermill": {
     "duration": 0.00512,
     "end_time": "2023-08-27T19:14:41.464371",
     "exception": false,
     "start_time": "2023-08-27T19:14:41.459251",
     "status": "completed"
    },
    "tags": []
   },
   "source": [
    "绝大部分的游戏分布在0-20000档，而且销量随出现频率下降而上升"
   ]
  },
  {
   "cell_type": "markdown",
   "id": "c4ea4edb",
   "metadata": {
    "papermill": {
     "duration": 0.004923,
     "end_time": "2023-08-27T19:14:41.474548",
     "exception": false,
     "start_time": "2023-08-27T19:14:41.469625",
     "status": "completed"
    },
    "tags": []
   },
   "source": [
    "# 2.4.4 Positive Ratings Rate\n",
    "可以探究这个比例与销量是否有联系\n",
    "可参考：https://blog.reputationx.com/how-positive-and-negative-reviews-affect-business-revenue\n",
    "positive ratings : negative rating "
   ]
  },
  {
   "cell_type": "code",
   "execution_count": 9,
   "id": "bde2cb04",
   "metadata": {
    "execution": {
     "iopub.execute_input": "2023-08-27T19:14:41.486891Z",
     "iopub.status.busy": "2023-08-27T19:14:41.486562Z",
     "iopub.status.idle": "2023-08-27T19:14:41.503647Z",
     "shell.execute_reply": "2023-08-27T19:14:41.502954Z"
    },
    "papermill": {
     "duration": 0.025462,
     "end_time": "2023-08-27T19:14:41.505396",
     "exception": false,
     "start_time": "2023-08-27T19:14:41.479934",
     "status": "completed"
    },
    "tags": []
   },
   "outputs": [
    {
     "data": {
      "text/html": [
       "<div>\n",
       "<style scoped>\n",
       "    .dataframe tbody tr th:only-of-type {\n",
       "        vertical-align: middle;\n",
       "    }\n",
       "\n",
       "    .dataframe tbody tr th {\n",
       "        vertical-align: top;\n",
       "    }\n",
       "\n",
       "    .dataframe thead th {\n",
       "        text-align: right;\n",
       "    }\n",
       "</style>\n",
       "<table border=\"1\" class=\"dataframe\">\n",
       "  <thead>\n",
       "    <tr style=\"text-align: right;\">\n",
       "      <th></th>\n",
       "      <th>appid</th>\n",
       "      <th>name</th>\n",
       "      <th>release_date</th>\n",
       "      <th>english</th>\n",
       "      <th>platforms</th>\n",
       "      <th>genres</th>\n",
       "      <th>positive_ratings</th>\n",
       "      <th>negative_ratings</th>\n",
       "      <th>owners</th>\n",
       "      <th>price</th>\n",
       "      <th>positive_ratings_rate_in_percentage</th>\n",
       "      <th>amount_of_Ratings</th>\n",
       "    </tr>\n",
       "  </thead>\n",
       "  <tbody>\n",
       "    <tr>\n",
       "      <th>0</th>\n",
       "      <td>10</td>\n",
       "      <td>Counter-Strike</td>\n",
       "      <td>2000-11-01</td>\n",
       "      <td>1</td>\n",
       "      <td>windows;mac;linux</td>\n",
       "      <td>Action</td>\n",
       "      <td>124534</td>\n",
       "      <td>3339</td>\n",
       "      <td>10000000-20000000</td>\n",
       "      <td>7.19</td>\n",
       "      <td>97.39</td>\n",
       "      <td>127873</td>\n",
       "    </tr>\n",
       "    <tr>\n",
       "      <th>1</th>\n",
       "      <td>20</td>\n",
       "      <td>Team Fortress Classic</td>\n",
       "      <td>1999-04-01</td>\n",
       "      <td>1</td>\n",
       "      <td>windows;mac;linux</td>\n",
       "      <td>Action</td>\n",
       "      <td>3318</td>\n",
       "      <td>633</td>\n",
       "      <td>5000000-10000000</td>\n",
       "      <td>3.99</td>\n",
       "      <td>83.98</td>\n",
       "      <td>3951</td>\n",
       "    </tr>\n",
       "    <tr>\n",
       "      <th>2</th>\n",
       "      <td>30</td>\n",
       "      <td>Day of Defeat</td>\n",
       "      <td>2003-05-01</td>\n",
       "      <td>1</td>\n",
       "      <td>windows;mac;linux</td>\n",
       "      <td>Action</td>\n",
       "      <td>3416</td>\n",
       "      <td>398</td>\n",
       "      <td>5000000-10000000</td>\n",
       "      <td>3.99</td>\n",
       "      <td>89.56</td>\n",
       "      <td>3814</td>\n",
       "    </tr>\n",
       "    <tr>\n",
       "      <th>3</th>\n",
       "      <td>40</td>\n",
       "      <td>Deathmatch Classic</td>\n",
       "      <td>2001-06-01</td>\n",
       "      <td>1</td>\n",
       "      <td>windows;mac;linux</td>\n",
       "      <td>Action</td>\n",
       "      <td>1273</td>\n",
       "      <td>267</td>\n",
       "      <td>5000000-10000000</td>\n",
       "      <td>3.99</td>\n",
       "      <td>82.66</td>\n",
       "      <td>1540</td>\n",
       "    </tr>\n",
       "    <tr>\n",
       "      <th>4</th>\n",
       "      <td>50</td>\n",
       "      <td>Half-Life: Opposing Force</td>\n",
       "      <td>1999-11-01</td>\n",
       "      <td>1</td>\n",
       "      <td>windows;mac;linux</td>\n",
       "      <td>Action</td>\n",
       "      <td>5250</td>\n",
       "      <td>288</td>\n",
       "      <td>5000000-10000000</td>\n",
       "      <td>3.99</td>\n",
       "      <td>94.80</td>\n",
       "      <td>5538</td>\n",
       "    </tr>\n",
       "  </tbody>\n",
       "</table>\n",
       "</div>"
      ],
      "text/plain": [
       "   appid                       name release_date  english          platforms  \\\n",
       "0     10             Counter-Strike   2000-11-01        1  windows;mac;linux   \n",
       "1     20      Team Fortress Classic   1999-04-01        1  windows;mac;linux   \n",
       "2     30              Day of Defeat   2003-05-01        1  windows;mac;linux   \n",
       "3     40         Deathmatch Classic   2001-06-01        1  windows;mac;linux   \n",
       "4     50  Half-Life: Opposing Force   1999-11-01        1  windows;mac;linux   \n",
       "\n",
       "   genres  positive_ratings  negative_ratings             owners  price  \\\n",
       "0  Action            124534              3339  10000000-20000000   7.19   \n",
       "1  Action              3318               633   5000000-10000000   3.99   \n",
       "2  Action              3416               398   5000000-10000000   3.99   \n",
       "3  Action              1273               267   5000000-10000000   3.99   \n",
       "4  Action              5250               288   5000000-10000000   3.99   \n",
       "\n",
       "   positive_ratings_rate_in_percentage  amount_of_Ratings  \n",
       "0                                97.39             127873  \n",
       "1                                83.98               3951  \n",
       "2                                89.56               3814  \n",
       "3                                82.66               1540  \n",
       "4                                94.80               5538  "
      ]
     },
     "execution_count": 9,
     "metadata": {},
     "output_type": "execute_result"
    }
   ],
   "source": [
    "games_featured_ratio=games_featured\n",
    "games_featured_ratio['positive_ratings_rate_in_percentage']=(games_featured_ratio.positive_ratings/(games_featured_ratio.positive_ratings+games_featured_ratio.negative_ratings))\n",
    "games_featured_ratio['positive_ratings_rate_in_percentage']=round(games_featured_ratio['positive_ratings_rate_in_percentage']*100,2)\n",
    "games_featured_ratio['amount_of_Ratings']=games_featured_ratio.positive_ratings+games_featured_ratio.negative_ratings\n",
    "games_featured_ratio.head()"
   ]
  },
  {
   "cell_type": "markdown",
   "id": "5db23a96",
   "metadata": {
    "papermill": {
     "duration": 0.005206,
     "end_time": "2023-08-27T19:14:41.516316",
     "exception": false,
     "start_time": "2023-08-27T19:14:41.511110",
     "status": "completed"
    },
    "tags": []
   },
   "source": [
    "# 2.3.7 Release Date"
   ]
  },
  {
   "cell_type": "code",
   "execution_count": 10,
   "id": "ce6f709c",
   "metadata": {
    "execution": {
     "iopub.execute_input": "2023-08-27T19:14:41.528994Z",
     "iopub.status.busy": "2023-08-27T19:14:41.528625Z",
     "iopub.status.idle": "2023-08-27T19:14:41.550861Z",
     "shell.execute_reply": "2023-08-27T19:14:41.550016Z"
    },
    "papermill": {
     "duration": 0.031124,
     "end_time": "2023-08-27T19:14:41.552754",
     "exception": false,
     "start_time": "2023-08-27T19:14:41.521630",
     "status": "completed"
    },
    "tags": []
   },
   "outputs": [
    {
     "data": {
      "text/html": [
       "<div>\n",
       "<style scoped>\n",
       "    .dataframe tbody tr th:only-of-type {\n",
       "        vertical-align: middle;\n",
       "    }\n",
       "\n",
       "    .dataframe tbody tr th {\n",
       "        vertical-align: top;\n",
       "    }\n",
       "\n",
       "    .dataframe thead th {\n",
       "        text-align: right;\n",
       "    }\n",
       "</style>\n",
       "<table border=\"1\" class=\"dataframe\">\n",
       "  <thead>\n",
       "    <tr style=\"text-align: right;\">\n",
       "      <th></th>\n",
       "      <th>appid</th>\n",
       "      <th>name</th>\n",
       "      <th>release_date</th>\n",
       "      <th>english</th>\n",
       "      <th>platforms</th>\n",
       "      <th>genres</th>\n",
       "      <th>positive_ratings</th>\n",
       "      <th>negative_ratings</th>\n",
       "      <th>owners</th>\n",
       "      <th>price</th>\n",
       "      <th>positive_ratings_rate_in_percentage</th>\n",
       "      <th>amount_of_Ratings</th>\n",
       "    </tr>\n",
       "  </thead>\n",
       "  <tbody>\n",
       "    <tr>\n",
       "      <th>0</th>\n",
       "      <td>10</td>\n",
       "      <td>Counter-Strike</td>\n",
       "      <td>2000</td>\n",
       "      <td>1</td>\n",
       "      <td>windows;mac;linux</td>\n",
       "      <td>Action</td>\n",
       "      <td>124534</td>\n",
       "      <td>3339</td>\n",
       "      <td>10000000-20000000</td>\n",
       "      <td>7.19</td>\n",
       "      <td>97.39</td>\n",
       "      <td>127873</td>\n",
       "    </tr>\n",
       "    <tr>\n",
       "      <th>1</th>\n",
       "      <td>20</td>\n",
       "      <td>Team Fortress Classic</td>\n",
       "      <td>1999</td>\n",
       "      <td>1</td>\n",
       "      <td>windows;mac;linux</td>\n",
       "      <td>Action</td>\n",
       "      <td>3318</td>\n",
       "      <td>633</td>\n",
       "      <td>5000000-10000000</td>\n",
       "      <td>3.99</td>\n",
       "      <td>83.98</td>\n",
       "      <td>3951</td>\n",
       "    </tr>\n",
       "    <tr>\n",
       "      <th>2</th>\n",
       "      <td>30</td>\n",
       "      <td>Day of Defeat</td>\n",
       "      <td>2003</td>\n",
       "      <td>1</td>\n",
       "      <td>windows;mac;linux</td>\n",
       "      <td>Action</td>\n",
       "      <td>3416</td>\n",
       "      <td>398</td>\n",
       "      <td>5000000-10000000</td>\n",
       "      <td>3.99</td>\n",
       "      <td>89.56</td>\n",
       "      <td>3814</td>\n",
       "    </tr>\n",
       "    <tr>\n",
       "      <th>3</th>\n",
       "      <td>40</td>\n",
       "      <td>Deathmatch Classic</td>\n",
       "      <td>2001</td>\n",
       "      <td>1</td>\n",
       "      <td>windows;mac;linux</td>\n",
       "      <td>Action</td>\n",
       "      <td>1273</td>\n",
       "      <td>267</td>\n",
       "      <td>5000000-10000000</td>\n",
       "      <td>3.99</td>\n",
       "      <td>82.66</td>\n",
       "      <td>1540</td>\n",
       "    </tr>\n",
       "    <tr>\n",
       "      <th>4</th>\n",
       "      <td>50</td>\n",
       "      <td>Half-Life: Opposing Force</td>\n",
       "      <td>1999</td>\n",
       "      <td>1</td>\n",
       "      <td>windows;mac;linux</td>\n",
       "      <td>Action</td>\n",
       "      <td>5250</td>\n",
       "      <td>288</td>\n",
       "      <td>5000000-10000000</td>\n",
       "      <td>3.99</td>\n",
       "      <td>94.80</td>\n",
       "      <td>5538</td>\n",
       "    </tr>\n",
       "  </tbody>\n",
       "</table>\n",
       "</div>"
      ],
      "text/plain": [
       "   appid                       name release_date  english          platforms  \\\n",
       "0     10             Counter-Strike         2000        1  windows;mac;linux   \n",
       "1     20      Team Fortress Classic         1999        1  windows;mac;linux   \n",
       "2     30              Day of Defeat         2003        1  windows;mac;linux   \n",
       "3     40         Deathmatch Classic         2001        1  windows;mac;linux   \n",
       "4     50  Half-Life: Opposing Force         1999        1  windows;mac;linux   \n",
       "\n",
       "   genres  positive_ratings  negative_ratings             owners  price  \\\n",
       "0  Action            124534              3339  10000000-20000000   7.19   \n",
       "1  Action              3318               633   5000000-10000000   3.99   \n",
       "2  Action              3416               398   5000000-10000000   3.99   \n",
       "3  Action              1273               267   5000000-10000000   3.99   \n",
       "4  Action              5250               288   5000000-10000000   3.99   \n",
       "\n",
       "   positive_ratings_rate_in_percentage  amount_of_Ratings  \n",
       "0                                97.39             127873  \n",
       "1                                83.98               3951  \n",
       "2                                89.56               3814  \n",
       "3                                82.66               1540  \n",
       "4                                94.80               5538  "
      ]
     },
     "execution_count": 10,
     "metadata": {},
     "output_type": "execute_result"
    }
   ],
   "source": [
    "#change release date format in year\n",
    "games_featured_ratio['release_date']=games_featured_ratio['release_date'].map(lambda x: x[0:4])\n",
    "games_featured_ratio.head()"
   ]
  }
 ],
 "metadata": {
  "kernelspec": {
   "display_name": "Python 3",
   "language": "python",
   "name": "python3"
  },
  "language_info": {
   "codemirror_mode": {
    "name": "ipython",
    "version": 3
   },
   "file_extension": ".py",
   "mimetype": "text/x-python",
   "name": "python",
   "nbconvert_exporter": "python",
   "pygments_lexer": "ipython3",
   "version": "3.10.12"
  },
  "papermill": {
   "default_parameters": {},
   "duration": 9.423337,
   "end_time": "2023-08-27T19:14:42.280870",
   "environment_variables": {},
   "exception": null,
   "input_path": "__notebook__.ipynb",
   "output_path": "__notebook__.ipynb",
   "parameters": {},
   "start_time": "2023-08-27T19:14:32.857533",
   "version": "2.4.0"
  }
 },
 "nbformat": 4,
 "nbformat_minor": 5
}
